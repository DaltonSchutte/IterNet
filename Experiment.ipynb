{
  "nbformat": 4,
  "nbformat_minor": 0,
  "metadata": {
    "kernelspec": {
      "name": "python3",
      "display_name": "Python 3"
    },
    "language_info": {
      "codemirror_mode": {
        "name": "ipython",
        "version": 3
      },
      "file_extension": ".py",
      "mimetype": "text/x-python",
      "name": "python",
      "nbconvert_exporter": "python",
      "pygments_lexer": "ipython3",
      "version": "3.6.8"
    },
    "colab": {
      "name": "Experiment.ipynb",
      "version": "0.3.2",
      "provenance": [],
      "collapsed_sections": []
    },
    "accelerator": "GPU"
  },
  "cells": [
    {
      "cell_type": "code",
      "metadata": {
        "id": "3f1YcdJWf_XW",
        "colab_type": "code",
        "colab": {}
      },
      "source": [
        "import torch\n",
        "import torch.nn as nn\n",
        "import torch.nn.functional as F\n",
        "import torch.optim as optim\n",
        "import torchvision\n",
        "from torchvision import datasets, transforms\n",
        "\n",
        "import numpy as np\n",
        "import matplotlib.pyplot as plt\n",
        "import seaborn as sbn"
      ],
      "execution_count": 0,
      "outputs": []
    },
    {
      "cell_type": "code",
      "metadata": {
        "id": "qtQ3AN78f_Xi",
        "colab_type": "code",
        "colab": {}
      },
      "source": [
        "class LeNet(nn.Module):\n",
        "    def __init__(self):\n",
        "        super(LeNet, self).__init__()\n",
        "        \n",
        "        self.conv1 = nn.Conv2d(1, 6, 5)\n",
        "        self.conv2 = nn.Conv2d(6, 16, 5)\n",
        "        self.fc1 = nn.Linear(16*4*4, 120)\n",
        "        self.fc2 = nn.Linear(120, 84)\n",
        "        self.fc3 = nn.Linear(84, 10)\n",
        "        \n",
        "    def forward(self, x):\n",
        "        x = F.relu(self.conv1(x))\n",
        "        x = F.max_pool2d(x, 2)\n",
        "        x = F.relu(self.conv2(x))\n",
        "        x = F.max_pool2d(x, 2)\n",
        "        x = x.view(x.size(0), -1)\n",
        "        x = F.relu(self.fc1(x))\n",
        "        x = F.relu(self.fc2(x))\n",
        "        out = self.fc3(x)\n",
        "        \n",
        "        return out"
      ],
      "execution_count": 0,
      "outputs": []
    },
    {
      "cell_type": "code",
      "metadata": {
        "id": "H1tEBg0xf_Xs",
        "colab_type": "code",
        "colab": {}
      },
      "source": [
        "class IterNet(nn.Module):\n",
        "    def __init__(self, iter_depth=2):\n",
        "        super(IterNet, self).__init__()\n",
        "        \n",
        "        self.iter_depth = iter_depth\n",
        "        \n",
        "        self.conv1 = nn.Conv2d(1, 6, 5)\n",
        "        self.conv2 = nn.Conv2d(6, 16, 5)\n",
        "        self.input = nn.Linear(16*4*4, 120)\n",
        "        self.iterative = nn.Linear(120, 120)\n",
        "        self.out = nn.Linear(120, 10)\n",
        "        \n",
        "\n",
        "    def forward(self, x):\n",
        "        x = F.relu(self.conv1(x))\n",
        "        x = F.max_pool2d(x, 2)\n",
        "        x = F.relu(self.conv2(x))\n",
        "        x = F.max_pool2d(x, 2)\n",
        "        x = x.view(x.size(0), -1)\n",
        "        x = F.relu(self.input(x))\n",
        "        \n",
        "        #Iterative Block\n",
        "        for i in range(self.iter_depth):\n",
        "            x = F.relu(self.iterative(self.iterative(x))+self.iterative(x))\n",
        "            \n",
        "        out = self.out(x)\n",
        "        \n",
        "        return out"
      ],
      "execution_count": 0,
      "outputs": []
    },
    {
      "cell_type": "code",
      "metadata": {
        "id": "ixu6k38jf_X4",
        "colab_type": "code",
        "colab": {}
      },
      "source": [
        "transform = transforms.Compose([transforms.ToTensor(),\n",
        "                                transforms.Normalize((0.5,),(0.5,))\n",
        "                               ])"
      ],
      "execution_count": 0,
      "outputs": []
    },
    {
      "cell_type": "code",
      "metadata": {
        "id": "SxM_1oEggPfe",
        "colab_type": "code",
        "outputId": "05b641e1-ff53-4ffd-d368-2a82421415b2",
        "colab": {
          "base_uri": "https://localhost:8080/",
          "height": 46
        }
      },
      "source": [
        "!mkdir data"
      ],
      "execution_count": 0,
      "outputs": [
        {
          "output_type": "stream",
          "text": [
            "mkdir: cannot create directory ‘data’: File exists\n"
          ],
          "name": "stdout"
        }
      ]
    },
    {
      "cell_type": "code",
      "metadata": {
        "id": "DaU3zqGJf_YC",
        "colab_type": "code",
        "colab": {}
      },
      "source": [
        "ROOT = './data'\n",
        "BATCH = 64\n",
        "\n",
        "train_data = datasets.MNIST(root=ROOT, download=True, train=True, transform=transform)\n",
        "test_data = datasets.MNIST(root=ROOT, download=True, train=False, transform=transform)\n",
        "train_loader = torch.utils.data.DataLoader(train_data, batch_size=BATCH, shuffle=True)\n",
        "test_loader = torch.utils.data.DataLoader(test_data, batch_size=BATCH, shuffle=True)\n",
        "\n",
        "loaders = {'train': train_loader,\n",
        "           'test': test_loader}"
      ],
      "execution_count": 0,
      "outputs": []
    },
    {
      "cell_type": "code",
      "metadata": {
        "id": "o-e6c6Iif_YJ",
        "colab_type": "code",
        "outputId": "96b1dd96-c149-4906-da1e-5aee6e299338",
        "colab": {
          "base_uri": "https://localhost:8080/",
          "height": 320
        }
      },
      "source": [
        "data_iter = iter(train_loader)\n",
        "images, labels = data_iter.next()\n",
        "\n",
        "print(images.shape)\n",
        "print(labels.shape)\n",
        "\n",
        "plt.imshow(images[0].squeeze())"
      ],
      "execution_count": 0,
      "outputs": [
        {
          "output_type": "stream",
          "text": [
            "torch.Size([64, 1, 28, 28])\n",
            "torch.Size([64])\n"
          ],
          "name": "stdout"
        },
        {
          "output_type": "execute_result",
          "data": {
            "text/plain": [
              "<matplotlib.image.AxesImage at 0x7fd58f10ed68>"
            ]
          },
          "metadata": {
            "tags": []
          },
          "execution_count": 7
        },
        {
          "output_type": "display_data",
          "data": {
            "image/png": "[encoded data removed]",
            "text/plain": [
              "<Figure size 432x288 with 1 Axes>"
            ]
          },
          "metadata": {
            "tags": []
          }
        }
      ]
    },
    {
      "cell_type": "code",
      "metadata": {
        "id": "VhvVwAAKf_Yb",
        "colab_type": "code",
        "outputId": "99252990-e44b-4fea-841f-53dd9a8426c6",
        "colab": {
          "base_uri": "https://localhost:8080/",
          "height": 136
        }
      },
      "source": [
        "lenet = LeNet()\n",
        "print(lenet)"
      ],
      "execution_count": 0,
      "outputs": [
        {
          "output_type": "stream",
          "text": [
            "LeNet(\n",
            "  (conv1): Conv2d(1, 6, kernel_size=(5, 5), stride=(1, 1))\n",
            "  (conv2): Conv2d(6, 16, kernel_size=(5, 5), stride=(1, 1))\n",
            "  (fc1): Linear(in_features=256, out_features=120, bias=True)\n",
            "  (fc2): Linear(in_features=120, out_features=84, bias=True)\n",
            "  (fc3): Linear(in_features=84, out_features=10, bias=True)\n",
            ")\n"
          ],
          "name": "stdout"
        }
      ]
    },
    {
      "cell_type": "code",
      "metadata": {
        "id": "6qVWhXwaf_Yh",
        "colab_type": "code",
        "outputId": "80cf72c0-4479-440b-bf47-1f2c0f3177fa",
        "colab": {
          "base_uri": "https://localhost:8080/",
          "height": 136
        }
      },
      "source": [
        "iternet = IterNet(iter_depth=2)\n",
        "print(iternet)"
      ],
      "execution_count": 0,
      "outputs": [
        {
          "output_type": "stream",
          "text": [
            "IterNet(\n",
            "  (conv1): Conv2d(1, 6, kernel_size=(5, 5), stride=(1, 1))\n",
            "  (conv2): Conv2d(6, 16, kernel_size=(5, 5), stride=(1, 1))\n",
            "  (input): Linear(in_features=256, out_features=120, bias=True)\n",
            "  (iterative): Linear(in_features=120, out_features=120, bias=True)\n",
            "  (out): Linear(in_features=120, out_features=10, bias=True)\n",
            ")\n"
          ],
          "name": "stdout"
        }
      ]
    },
    {
      "cell_type": "code",
      "metadata": {
        "id": "RCNAgi85hGuU",
        "colab_type": "code",
        "outputId": "96931d5f-0e99-4dda-8ffd-de46b7bc3c19",
        "colab": {
          "base_uri": "https://localhost:8080/",
          "height": 34
        }
      },
      "source": [
        "model_parameters = filter(lambda p: p.requires_grad, lenet.parameters())\n",
        "params = sum([np.prod(p.size()) for p in model_parameters])\n",
        "\n",
        "print(params)"
      ],
      "execution_count": 0,
      "outputs": [
        {
          "output_type": "stream",
          "text": [
            "44426\n"
          ],
          "name": "stdout"
        }
      ]
    },
    {
      "cell_type": "code",
      "metadata": {
        "id": "GZxJSlWThR5k",
        "colab_type": "code",
        "outputId": "f8e92f7a-cef0-4d76-9949-361dbb413132",
        "colab": {
          "base_uri": "https://localhost:8080/",
          "height": 34
        }
      },
      "source": [
        "model_parameters = filter(lambda p: p.requires_grad, iternet.parameters())\n",
        "params = sum([np.prod(p.size()) for p in model_parameters])\n",
        "\n",
        "print(params)"
      ],
      "execution_count": 0,
      "outputs": [
        {
          "output_type": "stream",
          "text": [
            "49142\n"
          ],
          "name": "stdout"
        }
      ]
    },
    {
      "cell_type": "code",
      "metadata": {
        "id": "OPRNn99Ef_Yr",
        "colab_type": "code",
        "colab": {}
      },
      "source": [
        "def weights_init(model):\n",
        "    for m in model.modules():\n",
        "        if isinstance(m, nn.Conv2d):\n",
        "            nn.init.kaiming_normal_(m.weight)\n",
        "            if m.bias is not None:\n",
        "                nn.init.constant_(m.bias, 0)\n",
        "        elif isinstance(m, nn.Linear):\n",
        "            nn.init.kaiming_normal_(m.weight)\n",
        "            if m.bias is not None:\n",
        "                nn.init.constant_(m.bias, 0)"
      ],
      "execution_count": 0,
      "outputs": []
    },
    {
      "cell_type": "code",
      "metadata": {
        "id": "HMIL7nX9f_Yy",
        "colab_type": "code",
        "outputId": "44f870c9-3b25-4cab-e40f-f1d1f0256a1a",
        "colab": {
          "base_uri": "https://localhost:8080/",
          "height": 34
        }
      },
      "source": [
        "device = torch.device(\"cuda\" if torch.cuda.is_available() else \"cpu\")\n",
        "print(device)"
      ],
      "execution_count": 0,
      "outputs": [
        {
          "output_type": "stream",
          "text": [
            "cuda\n"
          ],
          "name": "stdout"
        }
      ]
    },
    {
      "cell_type": "code",
      "metadata": {
        "id": "2RFVNPBKf_ZI",
        "colab_type": "code",
        "colab": {}
      },
      "source": [
        "def train_model(epochs, loaders, model, optimizer, criterion, device, verbose=True):\n",
        "    assert type(loaders) == dict and len(loaders) == 2, ValueError(\"Improper Loader dict\")\n",
        "    \n",
        "    model = model.to(device)\n",
        "    \n",
        "    train_losses = []\n",
        "    \n",
        "    for e in range(1, epochs+1):\n",
        "        train_loss = 0\n",
        "        \n",
        "        #Train loop\n",
        "        model.train()\n",
        "        for batch_idx, (data, target) in enumerate(loaders['train']):\n",
        "            data, target = data.to(device), target.to(device)\n",
        "            \n",
        "            optimizer.zero_grad()\n",
        "            output = model(data)\n",
        "            loss = criterion(output, target)\n",
        "            loss.backward()\n",
        "            optimizer.step()\n",
        "            train_loss += loss.item() * data.size(0)\n",
        "            train_losses.append(loss.item())\n",
        "            \n",
        "        train_loss = train_loss / len(loaders['train'])\n",
        "            \n",
        "        if verbose:\n",
        "            print(\"  Epoch {}\\n\\tTrain Loss: {:.4f}\".format(e, train_loss))\n",
        "        \n",
        "    return train_losses, model"
      ],
      "execution_count": 0,
      "outputs": []
    },
    {
      "cell_type": "code",
      "metadata": {
        "id": "yQgqqrtUf_ZL",
        "colab_type": "code",
        "colab": {}
      },
      "source": [
        "def test_model(loaders, model, criterion, device):\n",
        "    test_loss = 0\n",
        "    correct = 0\n",
        "    total = 0\n",
        "    \n",
        "    model.eval()\n",
        "    for batch_idx, (data, target) in enumerate(loaders['test']):\n",
        "        data, target = data.to(device), target.to(device)\n",
        "        output = model(data)\n",
        "        loss = criterion(output, target)\n",
        "        test_loss + ((1 / (batch_idx+1)) * (loss.data - test_loss))\n",
        "        pred = output.data.max(1, keepdim=True)[1]\n",
        "        correct += np.sum(np.squeeze(pred.eq(target.data.view_as(pred))).cpu().numpy())\n",
        "        total += data.size(0)\n",
        "        \n",
        "    print('Test Loss: {:.4f}'.format(test_loss))\n",
        "    print('Test Accuracy: {:.2%}'.format(correct / total))\n",
        "    \n",
        "    return correct / total"
      ],
      "execution_count": 0,
      "outputs": []
    },
    {
      "cell_type": "code",
      "metadata": {
        "id": "Ip6QYUHaf_ZO",
        "colab_type": "code",
        "colab": {}
      },
      "source": [
        "def trial_evaluation(n_trials, epochs, loaders, model_name, device, iter_depth=2, verbose=False):\n",
        "    assert model_name in ['LeNet', 'IterNet'], ValueError('Invalid model type')\n",
        "\n",
        "    print(\"Testing {} instances of {} model for {} epochs per trial...\".format(n_trials,\n",
        "                                                                               model_name,\n",
        "                                                                               epochs\n",
        "                                                                              ))\n",
        "    \n",
        "    train_losses = []\n",
        "    trained_models = []\n",
        "    test_accuracies = []\n",
        "    \n",
        "    #Run trials\n",
        "    for trial in range(1, n_trials+1):\n",
        "        if model_name == 'LeNet':\n",
        "            model = LeNet()\n",
        "        elif model_name == 'IterNet':\n",
        "            model = IterNet(iter_depth=iter_depth)\n",
        "    \n",
        "        #Initialize weights with kaiming_normal\n",
        "        weights_init(model)\n",
        "        \n",
        "        #SGD with Nesterov Momentum and L2 weight decay\n",
        "        optimizer = optim.SGD(model.parameters(), \n",
        "                              lr=0.003,\n",
        "                              momentum=0.9,\n",
        "                              nesterov=True,\n",
        "                              weight_decay=1e-4\n",
        "                             )\n",
        "\n",
        "        #CrossEntropyLoss\n",
        "        criterion = nn.CrossEntropyLoss()\n",
        "    \n",
        "        print(\"Trial: \", trial)\n",
        "        train_loss, trained_model = train_model(epochs, \n",
        "                                                loaders, \n",
        "                                                model, \n",
        "                                                optimizer, \n",
        "                                                criterion, \n",
        "                                                device, \n",
        "                                                verbose\n",
        "                                               )\n",
        "        test_accuracy = test_model(loaders,\n",
        "                                   trained_model,\n",
        "                                   criterion,\n",
        "                                   device\n",
        "                                  )\n",
        "        \n",
        "        train_losses.append(train_loss)\n",
        "        test_accuracies.append(test_accuracy)\n",
        "        trained_models.append(trained_model)\n",
        "    \n",
        "    return train_losses, test_accuracies, trained_models"
      ],
      "execution_count": 0,
      "outputs": []
    },
    {
      "cell_type": "code",
      "metadata": {
        "id": "tAP5VWabj2_j",
        "colab_type": "code",
        "colab": {}
      },
      "source": [
        "TRIALS = 7\n",
        "EPOCHS = 10"
      ],
      "execution_count": 0,
      "outputs": []
    },
    {
      "cell_type": "code",
      "metadata": {
        "id": "ZYzJ6qAhkE66",
        "colab_type": "code",
        "colab": {}
      },
      "source": [
        "import time"
      ],
      "execution_count": 0,
      "outputs": []
    },
    {
      "cell_type": "code",
      "metadata": {
        "id": "0Xn8Rdt3f_ZQ",
        "colab_type": "code",
        "outputId": "e7d1c236-f392-4a78-a943-b55f81dd02ae",
        "colab": {
          "base_uri": "https://localhost:8080/",
          "height": 1000
        }
      },
      "source": [
        "time_0 = time.time()\n",
        "_, LN_Accuracies, _ = trial_evaluation(TRIALS, EPOCHS, loaders, 'LeNet', device, verbose=True)\n",
        "time_elapsed = time.time()-time_0\n",
        "print(\"Total: {:.2f}\\tAverage: {:.2f}\".format(time_elapsed, time_elapsed/TRIALS))"
      ],
      "execution_count": 0,
      "outputs": [
        {
          "output_type": "stream",
          "text": [
            "Testing 7 instances of LeNet model for 10 epochs per trial...\n",
            "Trial:  1\n",
            "  Epoch 1\n",
            "\tTrain Loss: 16.2925\n",
            "  Epoch 2\n",
            "\tTrain Loss: 5.6579\n",
            "  Epoch 3\n",
            "\tTrain Loss: 4.1169\n",
            "  Epoch 4\n",
            "\tTrain Loss: 3.3693\n",
            "  Epoch 5\n",
            "\tTrain Loss: 2.8489\n",
            "  Epoch 6\n",
            "\tTrain Loss: 2.4326\n",
            "  Epoch 7\n",
            "\tTrain Loss: 2.1382\n",
            "  Epoch 8\n",
            "\tTrain Loss: 1.8797\n",
            "  Epoch 9\n",
            "\tTrain Loss: 1.6860\n",
            "  Epoch 10\n",
            "\tTrain Loss: 1.4972\n",
            "Test Loss: 0.0000\n",
            "Test Accuracy: 98.74%\n",
            "Trial:  2\n",
            "  Epoch 1\n",
            "\tTrain Loss: 16.6515\n",
            "  Epoch 2\n",
            "\tTrain Loss: 5.6186\n",
            "  Epoch 3\n",
            "\tTrain Loss: 4.0944\n",
            "  Epoch 4\n",
            "\tTrain Loss: 3.2980\n",
            "  Epoch 5\n",
            "\tTrain Loss: 2.7628\n",
            "  Epoch 6\n",
            "\tTrain Loss: 2.4261\n",
            "  Epoch 7\n",
            "\tTrain Loss: 2.1081\n",
            "  Epoch 8\n",
            "\tTrain Loss: 1.8988\n",
            "  Epoch 9\n",
            "\tTrain Loss: 1.6625\n",
            "  Epoch 10\n",
            "\tTrain Loss: 1.5350\n",
            "Test Loss: 0.0000\n",
            "Test Accuracy: 98.63%\n",
            "Trial:  3\n",
            "  Epoch 1\n",
            "\tTrain Loss: 17.6816\n",
            "  Epoch 2\n",
            "\tTrain Loss: 6.1127\n",
            "  Epoch 3\n",
            "\tTrain Loss: 4.4820\n",
            "  Epoch 4\n",
            "\tTrain Loss: 3.5951\n",
            "  Epoch 5\n",
            "\tTrain Loss: 3.0138\n",
            "  Epoch 6\n",
            "\tTrain Loss: 2.6330\n",
            "  Epoch 7\n",
            "\tTrain Loss: 2.2612\n",
            "  Epoch 8\n",
            "\tTrain Loss: 2.0321\n",
            "  Epoch 9\n",
            "\tTrain Loss: 1.7924\n",
            "  Epoch 10\n",
            "\tTrain Loss: 1.5765\n",
            "Test Loss: 0.0000\n",
            "Test Accuracy: 98.56%\n",
            "Trial:  4\n",
            "  Epoch 1\n",
            "\tTrain Loss: 21.0229\n",
            "  Epoch 2\n",
            "\tTrain Loss: 6.3723\n",
            "  Epoch 3\n",
            "\tTrain Loss: 4.5283\n",
            "  Epoch 4\n",
            "\tTrain Loss: 3.6278\n",
            "  Epoch 5\n",
            "\tTrain Loss: 2.9804\n",
            "  Epoch 6\n",
            "\tTrain Loss: 2.6392\n",
            "  Epoch 7\n",
            "\tTrain Loss: 2.2378\n",
            "  Epoch 8\n",
            "\tTrain Loss: 1.9509\n",
            "  Epoch 9\n",
            "\tTrain Loss: 1.7462\n",
            "  Epoch 10\n",
            "\tTrain Loss: 1.5748\n",
            "Test Loss: 0.0000\n",
            "Test Accuracy: 98.29%\n",
            "Trial:  5\n",
            "  Epoch 1\n",
            "\tTrain Loss: 19.4428\n",
            "  Epoch 2\n",
            "\tTrain Loss: 6.7286\n",
            "  Epoch 3\n",
            "\tTrain Loss: 4.7815\n",
            "  Epoch 4\n",
            "\tTrain Loss: 3.7903\n",
            "  Epoch 5\n",
            "\tTrain Loss: 3.2411\n",
            "  Epoch 6\n",
            "\tTrain Loss: 2.7560\n",
            "  Epoch 7\n",
            "\tTrain Loss: 2.3913\n",
            "  Epoch 8\n",
            "\tTrain Loss: 2.1074\n",
            "  Epoch 9\n",
            "\tTrain Loss: 1.9095\n",
            "  Epoch 10\n",
            "\tTrain Loss: 1.6766\n",
            "Test Loss: 0.0000\n",
            "Test Accuracy: 98.65%\n",
            "Trial:  6\n",
            "  Epoch 1\n",
            "\tTrain Loss: 17.6845\n",
            "  Epoch 2\n",
            "\tTrain Loss: 6.0343\n",
            "  Epoch 3\n",
            "\tTrain Loss: 4.4986\n",
            "  Epoch 4\n",
            "\tTrain Loss: 3.7039\n",
            "  Epoch 5\n",
            "\tTrain Loss: 3.1134\n",
            "  Epoch 6\n",
            "\tTrain Loss: 2.6932\n",
            "  Epoch 7\n",
            "\tTrain Loss: 2.3442\n",
            "  Epoch 8\n",
            "\tTrain Loss: 2.1453\n",
            "  Epoch 9\n",
            "\tTrain Loss: 1.9231\n",
            "  Epoch 10\n",
            "\tTrain Loss: 1.6850\n",
            "Test Loss: 0.0000\n",
            "Test Accuracy: 98.50%\n",
            "Trial:  7\n",
            "  Epoch 1\n",
            "\tTrain Loss: 16.9098\n",
            "  Epoch 2\n",
            "\tTrain Loss: 5.6053\n",
            "  Epoch 3\n",
            "\tTrain Loss: 4.0877\n",
            "  Epoch 4\n",
            "\tTrain Loss: 3.3350\n",
            "  Epoch 5\n",
            "\tTrain Loss: 2.8222\n",
            "  Epoch 6\n",
            "\tTrain Loss: 2.4443\n",
            "  Epoch 7\n",
            "\tTrain Loss: 2.1414\n",
            "  Epoch 8\n",
            "\tTrain Loss: 1.8818\n",
            "  Epoch 9\n",
            "\tTrain Loss: 1.6802\n",
            "  Epoch 10\n",
            "\tTrain Loss: 1.4843\n",
            "Test Loss: 0.0000\n",
            "Test Accuracy: 98.68%\n",
            "Total: 639.10\tAverage: 91.30\n"
          ],
          "name": "stdout"
        }
      ]
    },
    {
      "cell_type": "code",
      "metadata": {
        "id": "Pep46LHBf_ZU",
        "colab_type": "code",
        "outputId": "22bf46d4-96af-42f0-a66b-429a8bc86be7",
        "colab": {
          "base_uri": "https://localhost:8080/",
          "height": 1000
        }
      },
      "source": [
        "time_0 = time.time()\n",
        "_, IN2_Accuracies, _ = trial_evaluation(TRIALS, EPOCHS, loaders, 'IterNet', device, verbose=True)\n",
        "time_elapsed = time.time()-time_0\n",
        "print(\"Total: {:.2f}\\tAverage: {:.2f}\".format(time_elapsed, time_elapsed/TRIALS))"
      ],
      "execution_count": 0,
      "outputs": [
        {
          "output_type": "stream",
          "text": [
            "Testing 7 instances of IterNet model for 10 epochs per trial...\n",
            "Trial:  1\n",
            "  Epoch 1\n",
            "\tTrain Loss: 16.4225\n",
            "  Epoch 2\n",
            "\tTrain Loss: 5.2418\n",
            "  Epoch 3\n",
            "\tTrain Loss: 3.9495\n",
            "  Epoch 4\n",
            "\tTrain Loss: 3.0507\n",
            "  Epoch 5\n",
            "\tTrain Loss: 2.5643\n",
            "  Epoch 6\n",
            "\tTrain Loss: 2.1921\n",
            "  Epoch 7\n",
            "\tTrain Loss: 1.8600\n",
            "  Epoch 8\n",
            "\tTrain Loss: 1.6313\n",
            "  Epoch 9\n",
            "\tTrain Loss: 1.4037\n",
            "  Epoch 10\n",
            "\tTrain Loss: 1.2573\n",
            "Test Loss: 0.0000\n",
            "Test Accuracy: 98.40%\n",
            "Trial:  2\n",
            "  Epoch 1\n",
            "\tTrain Loss: 26.4764\n",
            "  Epoch 2\n",
            "\tTrain Loss: 7.3255\n",
            "  Epoch 3\n",
            "\tTrain Loss: 5.3947\n",
            "  Epoch 4\n",
            "\tTrain Loss: 4.3045\n",
            "  Epoch 5\n",
            "\tTrain Loss: 3.6404\n",
            "  Epoch 6\n",
            "\tTrain Loss: 3.0728\n",
            "  Epoch 7\n",
            "\tTrain Loss: 2.7488\n",
            "  Epoch 8\n",
            "\tTrain Loss: 2.5284\n",
            "  Epoch 9\n",
            "\tTrain Loss: 2.1888\n",
            "  Epoch 10\n",
            "\tTrain Loss: 2.0026\n",
            "Test Loss: 0.0000\n",
            "Test Accuracy: 98.24%\n",
            "Trial:  3\n",
            "  Epoch 1\n",
            "\tTrain Loss: 39.7468\n",
            "  Epoch 2\n",
            "\tTrain Loss: 8.5665\n",
            "  Epoch 3\n",
            "\tTrain Loss: 6.3181\n",
            "  Epoch 4\n",
            "\tTrain Loss: 5.1419\n",
            "  Epoch 5\n",
            "\tTrain Loss: 4.3552\n",
            "  Epoch 6\n",
            "\tTrain Loss: 3.8359\n",
            "  Epoch 7\n",
            "\tTrain Loss: 3.4453\n",
            "  Epoch 8\n",
            "\tTrain Loss: 3.0197\n",
            "  Epoch 9\n",
            "\tTrain Loss: 2.8654\n",
            "  Epoch 10\n",
            "\tTrain Loss: 2.5882\n",
            "Test Loss: 0.0000\n",
            "Test Accuracy: 98.12%\n",
            "Trial:  4\n",
            "  Epoch 1\n",
            "\tTrain Loss: 21.7228\n",
            "  Epoch 2\n",
            "\tTrain Loss: 7.4508\n",
            "  Epoch 3\n",
            "\tTrain Loss: 5.6490\n",
            "  Epoch 4\n",
            "\tTrain Loss: 4.5155\n",
            "  Epoch 5\n",
            "\tTrain Loss: 3.7568\n",
            "  Epoch 6\n",
            "\tTrain Loss: 3.3962\n",
            "  Epoch 7\n",
            "\tTrain Loss: 2.9254\n",
            "  Epoch 8\n",
            "\tTrain Loss: 2.5926\n",
            "  Epoch 9\n",
            "\tTrain Loss: 2.2986\n",
            "  Epoch 10\n",
            "\tTrain Loss: 2.2486\n",
            "Test Loss: 0.0000\n",
            "Test Accuracy: 98.33%\n",
            "Trial:  5\n",
            "  Epoch 1\n",
            "\tTrain Loss: 17.4471\n",
            "  Epoch 2\n",
            "\tTrain Loss: 5.7177\n",
            "  Epoch 3\n",
            "\tTrain Loss: 4.3770\n",
            "  Epoch 4\n",
            "\tTrain Loss: 3.5311\n",
            "  Epoch 5\n",
            "\tTrain Loss: 3.0727\n",
            "  Epoch 6\n",
            "\tTrain Loss: 2.5488\n",
            "  Epoch 7\n",
            "\tTrain Loss: 2.2988\n",
            "  Epoch 8\n",
            "\tTrain Loss: 1.9190\n",
            "  Epoch 9\n",
            "\tTrain Loss: 1.7436\n",
            "  Epoch 10\n",
            "\tTrain Loss: 1.5593\n",
            "Test Loss: 0.0000\n",
            "Test Accuracy: 98.55%\n",
            "Trial:  6\n",
            "  Epoch 1\n",
            "\tTrain Loss: 16.1633\n",
            "  Epoch 2\n",
            "\tTrain Loss: 5.0755\n",
            "  Epoch 3\n",
            "\tTrain Loss: 3.7684\n",
            "  Epoch 4\n",
            "\tTrain Loss: 3.1156\n",
            "  Epoch 5\n",
            "\tTrain Loss: 2.4945\n"
          ],
          "name": "stdout"
        }
      ]
    },
    {
      "cell_type": "code",
      "metadata": {
        "id": "SP5HqeSPhkar",
        "colab_type": "code",
        "colab": {}
      },
      "source": [
        "time_0 = time.time()\n",
        "_, IN3_Accuracies, _ = trial_evaluation(TRIALS, EPOCHS, loaders, 'IterNet', device, iter_depth=3, verbose=False)\n",
        "time_elapsed = time.time()-time_0\n",
        "print(\"Total: {:.2f}\\tAverage: {:.2f}\".format(time_elapsed, time_elapsed/TRIALS))"
      ],
      "execution_count": 0,
      "outputs": []
    },
    {
      "cell_type": "code",
      "metadata": {
        "id": "56Qc2UeHjgu4",
        "colab_type": "code",
        "colab": {}
      },
      "source": [
        "time_0 = time.time()\n",
        "_, IN1_Accuracies, _ = trial_evaluation(TRIALS, EPOCHS, loaders, 'IterNet', device, iter_depth=1, verbose=False)\n",
        "time_elapsed = time.time()-time_0\n",
        "print(\"Total: {:.2f}\\tAverage: {:.2f}\".format(time_elapsed, time_elapsed/TRIALS))"
      ],
      "execution_count": 0,
      "outputs": []
    },
    {
      "cell_type": "code",
      "metadata": {
        "id": "FaTHAAKijrfn",
        "colab_type": "code",
        "colab": {}
      },
      "source": [
        "IN1_Accuracies = np.array(IN1_Accuracies)\n",
        "\n",
        "print(\"Max: \", np.max(IN1_Accuracies))\n",
        "print(\"Min: \", np.min(IN1_Accuracies))\n",
        "print(\"Mean: \", np.mean(IN1_Accuracies))\n",
        "print(\"SDev: \", np.std(IN1_Accuracies))"
      ],
      "execution_count": 0,
      "outputs": []
    },
    {
      "cell_type": "code",
      "metadata": {
        "id": "sQyvZVJGntjg",
        "colab_type": "code",
        "colab": {}
      },
      "source": [
        "IN2_Accuracies = np.array(IN2_Accuracies)\n",
        "\n",
        "print(\"Max: \", np.max(IN2_Accuracies))\n",
        "print(\"Min: \", np.min(IN2_Accuracies))\n",
        "print(\"Mean: \", np.mean(IN2_Accuracies))\n",
        "print(\"SDev: \", np.std(IN2_Accuracies))"
      ],
      "execution_count": 0,
      "outputs": []
    },
    {
      "cell_type": "code",
      "metadata": {
        "id": "S3x95z2mnwie",
        "colab_type": "code",
        "colab": {}
      },
      "source": [
        "IN3_Accuracies = np.array(IN3_Accuracies)\n",
        "\n",
        "print(\"Max: \", np.max(IN3_Accuracies))\n",
        "print(\"Min: \", np.min(IN3_Accuracies))\n",
        "print(\"Mean: \", np.mean(IN3_Accuracies))\n",
        "print(\"SDev: \", np.std(IN3_Accuracies))"
      ],
      "execution_count": 0,
      "outputs": []
    },
    {
      "cell_type": "code",
      "metadata": {
        "id": "iT5ZEotQn1IV",
        "colab_type": "code",
        "outputId": "4d566ff1-14f5-4f3c-c2c7-1f8617a28ad0",
        "colab": {
          "base_uri": "https://localhost:8080/",
          "height": 85
        }
      },
      "source": [
        "LN_Accuracies = np.array(LN_Accuracies)\n",
        "\n",
        "print(\"Max: \", np.max(LN_Accuracies))\n",
        "print(\"Min: \", np.min(LN_Accuracies))\n",
        "print(\"Mean: \", np.mean(LN_Accuracies))\n",
        "print(\"SDev: \", np.std(LN_Accuracies))"
      ],
      "execution_count": 0,
      "outputs": [
        {
          "output_type": "stream",
          "text": [
            "Max:  0.9874\n",
            "Min:  0.9829\n",
            "Mean:  0.9857857142857143\n",
            "SDev:  0.0013829870068892641\n"
          ],
          "name": "stdout"
        }
      ]
    },
    {
      "cell_type": "code",
      "metadata": {
        "id": "r76AgZGpfAyU",
        "colab_type": "code",
        "colab": {}
      },
      "source": [
        ""
      ],
      "execution_count": 0,
      "outputs": []
    }
  ]
}