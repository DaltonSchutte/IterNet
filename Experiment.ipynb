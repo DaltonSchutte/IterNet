{
 "cells": [
  {
   "cell_type": "code",
   "execution_count": null,
   "metadata": {
    "colab": {},
    "colab_type": "code",
    "id": "3f1YcdJWf_XW"
   },
   "outputs": [],
   "source": [
    "import torch\n",
    "import torch.nn as nn\n",
    "import torch.nn.functional as F\n",
    "import torch.optim as optim\n",
    "import torchvision\n",
    "from torchvision import datasets, transforms\n",
    "\n",
    "import networks\n",
    "import train\n",
    "\n",
    "import numpy as np\n",
    "import matplotlib.pyplot as plt\n",
    "import time"
   ]
  },
  {
   "cell_type": "code",
   "execution_count": null,
   "metadata": {
    "colab": {},
    "colab_type": "code",
    "id": "ixu6k38jf_X4"
   },
   "outputs": [],
   "source": [
    "transform = transforms.Compose([transforms.ToTensor(),\n",
    "                                transforms.Normalize((0.5,),(0.5,))\n",
    "                               ])"
   ]
  },
  {
   "cell_type": "code",
   "execution_count": null,
   "metadata": {
    "colab": {},
    "colab_type": "code",
    "id": "DaU3zqGJf_YC"
   },
   "outputs": [],
   "source": [
    "ROOT = './data'\n",
    "BATCH = 64\n",
    "\n",
    "train_data = datasets.MNIST(root=ROOT, download=True, train=True, transform=transform)\n",
    "test_data = datasets.MNIST(root=ROOT, download=True, train=False, transform=transform)\n",
    "train_loader = torch.utils.data.DataLoader(train_data, batch_size=BATCH, shuffle=True)\n",
    "test_loader = torch.utils.data.DataLoader(test_data, batch_size=BATCH, shuffle=True)\n",
    "\n",
    "loaders = {'train': train_loader,\n",
    "           'test': test_loader}"
   ]
  },
  {
   "cell_type": "code",
   "execution_count": null,
   "metadata": {
    "colab": {
     "base_uri": "https://localhost:8080/",
     "height": 320
    },
    "colab_type": "code",
    "id": "o-e6c6Iif_YJ",
    "outputId": "96b1dd96-c149-4906-da1e-5aee6e299338"
   },
   "outputs": [],
   "source": [
    "data_iter = iter(train_loader)\n",
    "images, labels = data_iter.next()\n",
    "\n",
    "print(images.shape)\n",
    "print(labels.shape)\n",
    "\n",
    "plt.imshow(images[0].squeeze())"
   ]
  },
  {
   "cell_type": "code",
   "execution_count": null,
   "metadata": {
    "colab": {
     "base_uri": "https://localhost:8080/",
     "height": 136
    },
    "colab_type": "code",
    "id": "VhvVwAAKf_Yb",
    "outputId": "99252990-e44b-4fea-841f-53dd9a8426c6"
   },
   "outputs": [],
   "source": [
    "lenet = networks.LeNet()\n",
    "print(lenet)"
   ]
  },
  {
   "cell_type": "code",
   "execution_count": null,
   "metadata": {
    "colab": {
     "base_uri": "https://localhost:8080/",
     "height": 136
    },
    "colab_type": "code",
    "id": "6qVWhXwaf_Yh",
    "outputId": "80cf72c0-4479-440b-bf47-1f2c0f3177fa"
   },
   "outputs": [],
   "source": [
    "iternet = networks.IterNet(linear=False, n_iter=2)\n",
    "print(iternet)"
   ]
  },
  {
   "cell_type": "code",
   "execution_count": null,
   "metadata": {
    "colab": {
     "base_uri": "https://localhost:8080/",
     "height": 34
    },
    "colab_type": "code",
    "id": "RCNAgi85hGuU",
    "outputId": "96931d5f-0e99-4dda-8ffd-de46b7bc3c19"
   },
   "outputs": [],
   "source": [
    "model_parameters = filter(lambda p: p.requires_grad, lenet.parameters())\n",
    "params = sum([np.prod(p.size()) for p in model_parameters])\n",
    "\n",
    "print(params)"
   ]
  },
  {
   "cell_type": "code",
   "execution_count": null,
   "metadata": {
    "colab": {
     "base_uri": "https://localhost:8080/",
     "height": 34
    },
    "colab_type": "code",
    "id": "GZxJSlWThR5k",
    "outputId": "f8e92f7a-cef0-4d76-9949-361dbb413132"
   },
   "outputs": [],
   "source": [
    "model_parameters = filter(lambda p: p.requires_grad, iternet.parameters())\n",
    "params = sum([np.prod(p.size()) for p in model_parameters])\n",
    "\n",
    "print(params)"
   ]
  },
  {
   "cell_type": "code",
   "execution_count": null,
   "metadata": {
    "colab": {
     "base_uri": "https://localhost:8080/",
     "height": 34
    },
    "colab_type": "code",
    "id": "HMIL7nX9f_Yy",
    "outputId": "44f870c9-3b25-4cab-e40f-f1d1f0256a1a"
   },
   "outputs": [],
   "source": [
    "device = torch.device(\"cuda\" if torch.cuda.is_available() else \"cpu\")\n",
    "print(device)"
   ]
  },
  {
   "cell_type": "code",
   "execution_count": null,
   "metadata": {
    "colab": {},
    "colab_type": "code",
    "id": "tAP5VWabj2_j"
   },
   "outputs": [],
   "source": [
    "TRIALS = 2\n",
    "EPOCHS = 2"
   ]
  },
  {
   "cell_type": "code",
   "execution_count": null,
   "metadata": {
    "colab": {
     "base_uri": "https://localhost:8080/",
     "height": 1000
    },
    "colab_type": "code",
    "id": "0Xn8Rdt3f_ZQ",
    "outputId": "e7d1c236-f392-4a78-a943-b55f81dd02ae"
   },
   "outputs": [],
   "source": [
    "time_0 = time.time()\n",
    "_, LN_Accuracies, _ = train.trial_evaluation(TRIALS, \n",
    "                                             EPOCHS, \n",
    "                                             loaders, \n",
    "                                             'LeNet', \n",
    "                                             device, \n",
    "                                             verbose=True)\n",
    "time_elapsed = time.time()-time_0\n",
    "print(\"Total: {:.2f}\\tAverage: {:.2f}\".format(time_elapsed, time_elapsed/TRIALS))"
   ]
  },
  {
   "cell_type": "code",
   "execution_count": null,
   "metadata": {
    "colab": {
     "base_uri": "https://localhost:8080/",
     "height": 1000
    },
    "colab_type": "code",
    "id": "Pep46LHBf_ZU",
    "outputId": "22bf46d4-96af-42f0-a66b-429a8bc86be7"
   },
   "outputs": [],
   "source": [
    "time_0 = time.time()\n",
    "_, IN2_Accuracies, _ = train.trial_evaluation(TRIALS, \n",
    "                                              EPOCHS, \n",
    "                                              loaders, \n",
    "                                              'IterNet', \n",
    "                                              device, \n",
    "                                              linear=True,\n",
    "                                              n_iter=2,\n",
    "                                              verbose=True)\n",
    "time_elapsed = time.time()-time_0\n",
    "print(\"Total: {:.2f}\\tAverage: {:.2f}\".format(time_elapsed, time_elapsed/TRIALS))"
   ]
  },
  {
   "cell_type": "code",
   "execution_count": null,
   "metadata": {
    "colab": {},
    "colab_type": "code",
    "id": "SP5HqeSPhkar"
   },
   "outputs": [],
   "source": [
    "time_0 = time.time()\n",
    "_, IN3_Accuracies, _ = train.trial_evaluation(TRIALS, \n",
    "                                              EPOCHS, \n",
    "                                              loaders, \n",
    "                                              'IterNet', \n",
    "                                              device,\n",
    "                                              linear=False,\n",
    "                                              n_iter=3, \n",
    "                                              verbose=False)\n",
    "time_elapsed = time.time()-time_0\n",
    "print(\"Total: {:.2f}\\tAverage: {:.2f}\".format(time_elapsed, time_elapsed/TRIALS))"
   ]
  },
  {
   "cell_type": "code",
   "execution_count": null,
   "metadata": {
    "colab": {},
    "colab_type": "code",
    "id": "56Qc2UeHjgu4"
   },
   "outputs": [],
   "source": [
    "time_0 = time.time()\n",
    "_, IN1_Accuracies, _ = train.trial_evaluation(TRIALS, \n",
    "                                              EPOCHS, \n",
    "                                              loaders, \n",
    "                                              'IterNet', \n",
    "                                              device,\n",
    "                                              linear=False,\n",
    "                                              n_iter=1, \n",
    "                                              verbose=False)\n",
    "time_elapsed = time.time()-time_0\n",
    "print(\"Total: {:.2f}\\tAverage: {:.2f}\".format(time_elapsed, time_elapsed/TRIALS))"
   ]
  },
  {
   "cell_type": "code",
   "execution_count": null,
   "metadata": {
    "colab": {},
    "colab_type": "code",
    "id": "FaTHAAKijrfn"
   },
   "outputs": [],
   "source": [
    "train.summarize_trials(IN1_Accuracies)"
   ]
  },
  {
   "cell_type": "code",
   "execution_count": null,
   "metadata": {
    "colab": {},
    "colab_type": "code",
    "id": "sQyvZVJGntjg"
   },
   "outputs": [],
   "source": [
    "train.summarize_trials(IN2_Accuracies)"
   ]
  },
  {
   "cell_type": "code",
   "execution_count": null,
   "metadata": {
    "colab": {},
    "colab_type": "code",
    "id": "S3x95z2mnwie"
   },
   "outputs": [],
   "source": [
    "IN3_Accuracies = np.array(IN3_Accuracies)\n",
    "\n",
    "print(\"Max: \", np.max(IN3_Accuracies))\n",
    "print(\"Min: \", np.min(IN3_Accuracies))\n",
    "print(\"Mean: \", np.mean(IN3_Accuracies))\n",
    "print(\"SDev: \", np.std(IN3_Accuracies))"
   ]
  },
  {
   "cell_type": "code",
   "execution_count": null,
   "metadata": {
    "colab": {
     "base_uri": "https://localhost:8080/",
     "height": 85
    },
    "colab_type": "code",
    "id": "iT5ZEotQn1IV",
    "outputId": "4d566ff1-14f5-4f3c-c2c7-1f8617a28ad0"
   },
   "outputs": [],
   "source": [
    "LN_Accuracies = np.array(LN_Accuracies)\n",
    "\n",
    "print(\"Max: \", np.max(LN_Accuracies))\n",
    "print(\"Min: \", np.min(LN_Accuracies))\n",
    "print(\"Mean: \", np.mean(LN_Accuracies))\n",
    "print(\"SDev: \", np.std(LN_Accuracies))"
   ]
  },
  {
   "cell_type": "code",
   "execution_count": null,
   "metadata": {
    "colab": {},
    "colab_type": "code",
    "id": "r76AgZGpfAyU"
   },
   "outputs": [],
   "source": []
  }
 ],
 "metadata": {
  "accelerator": "GPU",
  "colab": {
   "collapsed_sections": [],
   "name": "Experiment.ipynb",
   "provenance": [],
   "version": "0.3.2"
  },
  "kernelspec": {
   "display_name": "Python 3",
   "language": "python",
   "name": "python3"
  },
  "language_info": {
   "codemirror_mode": {
    "name": "ipython",
    "version": 3
   },
   "file_extension": ".py",
   "mimetype": "text/x-python",
   "name": "python",
   "nbconvert_exporter": "python",
   "pygments_lexer": "ipython3",
   "version": "3.6.8"
  }
 },
 "nbformat": 4,
 "nbformat_minor": 1
}
